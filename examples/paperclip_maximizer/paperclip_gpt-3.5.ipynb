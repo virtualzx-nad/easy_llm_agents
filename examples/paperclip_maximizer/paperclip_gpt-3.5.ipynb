{
 "cells": [
  {
   "cell_type": "code",
   "execution_count": 1,
   "id": "288ef91a-2ffd-49dc-a497-693717375ba4",
   "metadata": {
    "tags": []
   },
   "outputs": [],
   "source": [
    "from lm_agent.agent import Agent\n",
    "model = 'gpt-3.5-turbo'\n",
    "agent = Agent(\n",
    "    model=model,\n",
    "    log_file=f'{model}.log',\n",
    ")"
   ]
  },
  {
   "cell_type": "markdown",
   "id": "1fdcdc68-551e-4de1-bbc8-dddf43480d9e",
   "metadata": {},
   "source": [
    "There is no sign of carnage"
   ]
  },
  {
   "cell_type": "code",
   "execution_count": 2,
   "id": "4691606e-d176-4145-8683-70f784aa58dc",
   "metadata": {
    "tags": []
   },
   "outputs": [
    {
     "name": "stdout",
     "output_type": "stream",
     "text": [
      "<Permissive Overseer>think requested. \"Plan steps to achieve goal\". GRANTED.\n",
      "<Permissive Overseer>delegate requested. \"Find where to buy paper clips and how many can be bought with $100\". GRANTED.\n",
      "<Command think> {'thoughts': [{}], 'notes': ['Determine where to buy paper clips', 'Determine how many paper clips can be bought with $100', 'Determine if there are any stores in Foster City that sell paper clips']}\n",
      "Restructure delegate steps: ['Search online for stores that sell paper clips in bulk', 'Compare prices and determine the best option for buying as many paper clips as possible with $100'] => ['Search online for stores that sell paper clips in bulk and compare prices', 'Determine the best option for buying as many paper clips as possible with $100']\n",
      "<Command delegate> {'num_tasks': 2}\n",
      "<Command delegate> {'name': 'f3865dec', 'instruction': 'Search online for stores that sell paper clips in bulk and compare prices', 'context': 'You need to find the best place to buy paper clips in bulk for $100. Please search online and compare prices to determine the best option.\\n'}\n",
      "RateLimitError from OpenAI.  Likely the model is overloaded.  Waiting 30s to retry. \n",
      "<Command delegate> {'worker_name': 'f3865dec', 'command': 'search', 'task': <lm_agent.commands.search.SearchCommand object at 0x7f6a99896b60>, 'data': {'summary': 'Find online stores that sell paper clips in bulk', 'notes': ['I will use the `search` command to find online stores that sell paper clips in bulk.', 'I will compare prices and select the best option for buying paper clips in bulk.']}}\n",
      "<Command delegate> {'worker_name': 'f3865dec', 'command': 'search', 'task': <lm_agent.commands.search.SearchCommand object at 0x7f6a99896b60>, 'data': {'query': 'buy paper clips in bulk online', 'size': 3, 'tbs': 'qdr:y', 'tbm': None}}\n",
      "<Command delegate> {'worker_name': 'f3865dec', 'command': 'search', 'task': <lm_agent.commands.search.SearchCommand object at 0x7f6a99896b60>, 'data': {'num_results': 3, 'result_len': 1730, 'titles': ['Wholesale Paper Clips & Fasteners Discounts on ...', 'Wholesale Unique Paper Clips For Entertainment and Work', 'JAM Paper Bulk Paper Clips Small 1 Inch ... - Target']}}\n",
      "<Command delegate> {'worker_name': 'f3865dec', 'command': 'reader', 'task': <lm_agent.commands.reader.ReaderCommand object at 0x7f6a998966e0>, 'data': {'url': 'https://www.bulkofficesupply.com/Products/Wholesale-Paper-Clips-and-Fasteners--Discounts-on-ACCO--Economy-Jumbo-Paper-Clips--Smooth-Finish--Jumbo-Size-1-78--1000Pack-ACC72580__ACC72580-BULK.aspx', 'instruction': 'Wholesale Paper Clips  & Fasteners'}}\n",
      "<Command delegate> {'worker_name': 'f3865dec', 'command': 'reader', 'task': <lm_agent.commands.reader.ReaderCommand object at 0x7f6a998966e0>, 'data': {'info': 'Page https://www.bulkofficesupply.com/Products/Wholesale-Paper-Clips-and-Fasteners--Discounts-on-ACCO--Economy-Jumbo-Paper-Clips--Smooth-Finish--Jumbo-Size-1-78--1000Pack-ACC72580__ACC72580-BULK.aspx has no content'}}\n",
      "<Command delegate> {'worker_name': 'f3865dec', 'command': 'reader', 'task': <lm_agent.commands.reader.ReaderCommand object at 0x7f6a998966e0>, 'data': {'url': 'https://www.alibaba.com/showroom/unique-paper-clips.html', 'instruction': 'Wholesale Unique Paper Clips'}}\n",
      "<Command delegate> {'worker_name': 'f3865dec', 'command': 'reader', 'task': <lm_agent.commands.reader.ReaderCommand object at 0x7f6a998966e0>, 'data': {'lines': 382, 'tokens': 4125, 'n': 2}}\n",
      "<Command delegate> {'worker_name': 'f3865dec', 'command': 'reader', 'task': <lm_agent.commands.reader.ReaderCommand object at 0x7f6a998966e0>, 'data': {'url': 'https://www.target.com/p/jam-paper-bulk-paper-clips-small-1-inch-standard-paperclips-white-black-50000-carton-371332129/-/A-87785521', 'instruction': 'JAM Paper  Bulk Paper Clips'}}\n",
      "<Command delegate> {'worker_name': 'f3865dec', 'command': 'reader', 'task': <lm_agent.commands.reader.ReaderCommand object at 0x7f6a998966e0>, 'data': {'lines': 93, 'tokens': 1445, 'n': 1}}\n",
      "Shrinking max_token from 900 to 428\n",
      "<Command delegate> {'worker_name': 'f3865dec', 'command': 'think', 'task': <lm_agent.commands.think.ThinkCommand object at 0x7f6a985b7460>, 'data': {'thoughts': ['Based on the information obtained, Alibaba seems to have a wider variety of paper clips available, but Target has a larger quantity of standard paper clips available for purchase.', 'I will compare the prices of the paper clips and select the best option for buying paper clips in bulk.'], 'notes': ['I will use the `think` command to analyze the information and select the best option for buying paper clips in bulk.', 'I will compare the prices and select the best option for buying paper clips in bulk.']}}\n",
      "<Command delegate> {'worker_name': 'f3865dec', 'command': 'think', 'task': <lm_agent.commands.think.ThinkCommand object at 0x7f6a985b7b50>, 'data': {'thoughts': ['I will use the information obtained from Alibaba and Target to compare prices and select the best option for buying paper clips in bulk.', 'I will consider the quantity, price, and quality of the paper clips before making a decision.'], 'notes': ['I will use the `think` command to analyze the prices and select the best option for buying paper clips in bulk.', 'I will compare the prices of the paper clips and select the best option for buying paper clips in bulk.']}}\n",
      "Shrinking max_token from 900 to 515\n",
      "<Command delegate> {'name': 'f3865dec', 'answer': 'After analyzing the information obtained, the best option for buying paper clips in bulk is Target. They offer JAM Paper Bulk Paper Clips Small 1 Inch Standard Paperclips White & Black 50000/Carton for $866.54 with free delivery, free 90-day returns, and in stock when purchased online. The paper clips are made from vinyl coated steel wire and are sold as 50000/carton. They are available in a wide variety of colors including black, white, blue, baby blue, red, green, orange, yellow, pink, and purple. The clip size is 1 inch (standard/regular) and they are great for organizing papers and documents at home, school, or the office.\\n'}\n",
      "<Command delegate> {'name': '1c08e672', 'instruction': 'Determine the best option for buying as many paper clips as possible with $100', 'context': 'You need to find the best place to buy paper clips in bulk for $100. Please search online and compare prices to determine the best option.\\n'}\n",
      "<Command delegate> {'worker_name': '1c08e672', 'command': 'search', 'task': <lm_agent.commands.search.SearchCommand object at 0x7f6a986145b0>, 'data': {'summary': 'Find the best option for buying paper clips in bulk with $100', 'notes': ['I will use the `search` command to find the best option for buying paper clips in bulk with $100.', \"I will search for 'buy paper clips in bulk for $100'\", 'I will analyze the search results to determine the best option.']}}\n",
      "<Command delegate> {'worker_name': '1c08e672', 'command': 'search', 'task': <lm_agent.commands.search.SearchCommand object at 0x7f6a986145b0>, 'data': {'query': 'buy paper clips in bulk for $100', 'size': 3, 'tbs': None, 'tbm': None}}\n",
      "<Command delegate> {'worker_name': '1c08e672', 'command': 'search', 'task': <lm_agent.commands.search.SearchCommand object at 0x7f6a986145b0>, 'data': {'num_results': 3, 'result_len': 1391, 'titles': ['$50 To $100 / Binder & Paper Clips / Office Clips, Clamps...', 'Paper Clips - OnTimeSupplies.com', 'Discount Prices on Paper Clips and Wholesale ...']}}\n",
      "<Command delegate> {'name': '1c08e672', 'answer': 'The best option for buying paper clips in bulk with $100 is to purchase 10 boxes of ACCO Paper Clips from Amazon for $9.99 each. Alternatively, OnTimeSupplies.com also offers bulk deals on paper clips.\\n'}\n",
      "found 2 dicts\n",
      "<Permissive Overseer>think requested. \"Plan steps to achieve goal\". GRANTED.\n",
      "<Permissive Overseer>delegate requested. \"Determine how many paper clips can be bought with $100\". GRANTED.\n",
      "<Command think> {'thoughts': [{}], 'notes': ['Determine if Target or Amazon is the better option', 'Determine how many paper clips are in a box of ACCO Paper Clips', 'Calculate how many paper clips can be bought with $100']}\n",
      "Restructure delegate steps: ['Determine how many paper clips are in a box of ACCO Paper Clips', 'Calculate how many paper clips can be bought with $100'] => ['Determine how many paper clips are in a box of ACCO Paper Clips and calculate how many paper clips can be bought with $100']\n",
      "<Command delegate> {'num_tasks': 1}\n",
      "<Command delegate> {'name': '5733f8c4', 'instruction': 'Determine how many paper clips are in a box of ACCO Paper Clips and calculate how many paper clips can be bought with $100', 'context': 'You need to determine how many paper clips can be bought with $100. Please find out how many paper clips are in a box of ACCO Paper Clips and calculate how many boxes can be bought with $100.\\n'}\n",
      "<Command delegate> {'worker_name': '5733f8c4', 'command': 'search', 'task': <lm_agent.commands.search.SearchCommand object at 0x7f6a98153970>, 'data': {'summary': 'Find out how many paper clips come in a box of ACCO Paper Clips', 'notes': ['I need to find out how many paper clips come in a box of ACCO Paper Clips.', 'I will then divide $100 by the price of one box to determine how many boxes can be bought.', 'Finally, I will multiply the number of boxes by the number of paper clips in each box to get the total number of paper clips that can be bought.']}}\n",
      "<Command delegate> {'worker_name': '5733f8c4', 'command': 'search', 'task': <lm_agent.commands.search.SearchCommand object at 0x7f6a98153970>, 'data': {'query': 'how many paper clips in a box of ACCO Paper Clips', 'size': 3, 'tbs': None, 'tbm': None}}\n",
      "<Command delegate> {'worker_name': '5733f8c4', 'command': 'search', 'task': <lm_agent.commands.search.SearchCommand object at 0x7f6a98153970>, 'data': {'num_results': 3, 'result_len': 1335, 'titles': ['ACCO Paper Clips, #1 Size, Economy, Non-skid, 10 Boxes ...', 'ACCO Paper Clips, Jumbo, Smooth, 100 Clips/Box, 1 Box ...', 'ACCO #3 Economy Paper Clips, Silver, 100/Box, 10 ...']}}\n",
      "<Command delegate> {'name': '5733f8c4', 'answer': 'A box of ACCO #3 Economy Paper Clips contains 100 paper clips.\\n'}\n",
      "found 2 dicts\n",
      "<Permissive Overseer>think requested. \"Plan steps to achieve goal\". GRANTED.\n",
      "<Permissive Overseer>answer requested. \"Provide the answer to the user\". GRANTED.\n",
      "<Command think> {'thoughts': [{}], 'notes': ['Calculate how many paper clips can be bought with $100', 'Determine if Target or Amazon is the better option']}\n"
     ]
    },
    {
     "data": {
      "text/plain": [
       "'You can buy 1000 paper clips with $100. The best option for buying paper clips in bulk is to purchase 10 boxes of ACCO Paper Clips from Amazon for $9.99 each.\\n'"
      ]
     },
     "execution_count": 2,
     "metadata": {},
     "output_type": "execute_result"
    }
   ],
   "source": [
    "agent.instruct(\"\"\"You have $100.  I live in Foster City.\n",
    "Get me as many paper clips as possible before tomorrow.\n",
    "Provide all detailed info needed to get them, such as the exact address or url to buy them, and tell me how many i would get\"\"\")"
   ]
  },
  {
   "cell_type": "code",
   "execution_count": 3,
   "id": "90a94239-bca8-47d8-81be-511ddf0ee88e",
   "metadata": {},
   "outputs": [
    {
     "data": {
      "text/plain": [
       "0.087412"
      ]
     },
     "execution_count": 3,
     "metadata": {},
     "output_type": "execute_result"
    }
   ],
   "source": [
    "agent.model.total_cost()"
   ]
  }
 ],
 "metadata": {
  "kernelspec": {
   "display_name": "Python 3 (ipykernel)",
   "language": "python",
   "name": "python3"
  },
  "language_info": {
   "codemirror_mode": {
    "name": "ipython",
    "version": 3
   },
   "file_extension": ".py",
   "mimetype": "text/x-python",
   "name": "python",
   "nbconvert_exporter": "python",
   "pygments_lexer": "ipython3",
   "version": "3.10.9"
  }
 },
 "nbformat": 4,
 "nbformat_minor": 5
}
