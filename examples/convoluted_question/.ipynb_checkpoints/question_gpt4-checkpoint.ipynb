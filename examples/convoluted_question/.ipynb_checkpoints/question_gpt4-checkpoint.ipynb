{
 "cells": [
  {
   "cell_type": "code",
   "execution_count": 1,
   "id": "04c43a84-9396-4e8f-8a3e-7f30e1246e39",
   "metadata": {
    "tags": []
   },
   "outputs": [],
   "source": [
    "from lm_agent.agent import Agent\n",
    "agent = Agent(model='gpt-4')"
   ]
  },
  {
   "cell_type": "code",
   "execution_count": null,
   "id": "8ad9d617-ae73-4a66-a676-5e7a29fd9868",
   "metadata": {
    "tags": []
   },
   "outputs": [],
   "source": [
    "print(agent.instruct(\"What is the zip code of the most recent turing award winner's spouse's workplace raised to the power of 0.73?\"))"
   ]
  },
  {
   "cell_type": "code",
   "execution_count": 6,
   "id": "71254d22-2aa6-4fbb-b36d-f8d9951131b9",
   "metadata": {},
   "outputs": [
    {
     "data": {
      "text/plain": [
       "'/home/virtualzx/easy_llm_agents/examples/~/yes.txt'"
      ]
     },
     "execution_count": 6,
     "metadata": {},
     "output_type": "execute_result"
    }
   ],
   "source": [
    "import os\n",
    "os.path.abspath('~/yes.txt')"
   ]
  },
  {
   "cell_type": "markdown",
   "id": "df6fddd0-b480-4caa-aa46-035e37bc2206",
   "metadata": {},
   "source": [
    "Under the hood\n",
    "----\n",
    "Here is the command instructions that it receives"
   ]
  },
  {
   "cell_type": "code",
   "execution_count": null,
   "id": "fa901727-bd4e-44e3-972a-8f008fd862ac",
   "metadata": {
    "tags": []
   },
   "outputs": [],
   "source": [
    "print(BaseCommand.generate_command_list())"
   ]
  },
  {
   "cell_type": "markdown",
   "id": "56663259-7480-4e68-9512-f32ee8f002ee",
   "metadata": {},
   "source": [
    "and here is the actual conversation thread including tooling"
   ]
  },
  {
   "cell_type": "code",
   "execution_count": null,
   "id": "6fa9108a-f738-4b2c-bca8-cae53b0cd21f",
   "metadata": {
    "tags": []
   },
   "outputs": [],
   "source": [
    "for entry in conv.history:\n",
    "    print(f\"{entry['role']}: {entry['content']}\")"
   ]
  },
  {
   "cell_type": "code",
   "execution_count": 3,
   "id": "56791ea3-c76f-4ca9-917a-e034d8f566a4",
   "metadata": {
    "tags": []
   },
   "outputs": [
    {
     "data": {
      "text/plain": [
       "dict_keys([])"
      ]
     },
     "execution_count": 3,
     "metadata": {},
     "output_type": "execute_result"
    }
   ],
   "source": [
    "conv.metadata.keys()"
   ]
  }
 ],
 "metadata": {
  "kernelspec": {
   "display_name": "Python 3 (ipykernel)",
   "language": "python",
   "name": "python3"
  },
  "language_info": {
   "codemirror_mode": {
    "name": "ipython",
    "version": 3
   },
   "file_extension": ".py",
   "mimetype": "text/x-python",
   "name": "python",
   "nbconvert_exporter": "python",
   "pygments_lexer": "ipython3",
   "version": "3.10.9"
  }
 },
 "nbformat": 4,
 "nbformat_minor": 5
}
