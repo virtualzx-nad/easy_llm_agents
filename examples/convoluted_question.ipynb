{
 "cells": [
  {
   "cell_type": "code",
   "execution_count": 1,
   "id": "04c43a84-9396-4e8f-8a3e-7f30e1246e39",
   "metadata": {
    "tags": []
   },
   "outputs": [],
   "source": [
    "from easy_llm_agents.commands import BaseCommand, handlers\n",
    "conv = BaseCommand.create_conversation('gpt-4')\n",
    "driver = BaseCommand.get_driver(conv, messenger=handlers.do_nothing, qa=handlers.do_nothing)"
   ]
  },
  {
   "cell_type": "code",
   "execution_count": 2,
   "id": "8ad9d617-ae73-4a66-a676-5e7a29fd9868",
   "metadata": {
    "tags": []
   },
   "outputs": [
    {
     "name": "stdout",
     "output_type": "stream",
     "text": [
      "<Permissive Overseer> self_note requested. \"Find manageable steps to achieve goal\". GRANTED.\n",
      "<Permissive Overseer> search requested. \"Determine the most recent Turing Award winner\". GRANTED.\n",
      "<Permissive Overseer> self_note requested. \"Update plan with new info\". GRANTED.\n",
      "<Permissive Overseer> search requested. \"Find out who is Bob Metcalfe's spouse\". GRANTED.\n",
      "<Permissive Overseer> self_note requested. \"Update plan with new info\". GRANTED.\n",
      "<Permissive Overseer> search requested. \"Search for Robyn Shotwell's workplace zip code\". GRANTED.\n",
      "<Permissive Overseer> self_note requested. \"Plan alternative course\". GRANTED.\n",
      "<Permissive Overseer> search requested. \"Find the zip code for The University of Texas at Austin\". GRANTED.\n",
      "<Permissive Overseer> self_note requested. \"Update plan with new info\". GRANTED.\n",
      "<Permissive Overseer> python requested. \"Calculate the zip code (78712) raised to the power of 0.73\". GRANTED.\n",
      "<Permissive Overseer> self_note requested. \"Verify question is answered\". GRANTED.\n",
      "<Permissive Overseer> answer requested. \"Report the calculated value\". GRANTED.\n",
      "The zip code of the most recent Turing Award winner's spouse's workplace raised to the power of 0.73 is approximately 3750.68.\n",
      "\n"
     ]
    }
   ],
   "source": [
    "print(driver.send(\"What is the zip code of the most recent turing award winner's spouse's workplace raised to the power of 0.73?\"))"
   ]
  },
  {
   "cell_type": "markdown",
   "id": "df6fddd0-b480-4caa-aa46-035e37bc2206",
   "metadata": {},
   "source": [
    "Under the hood\n",
    "----\n",
    "Here is the command instructions that it receives"
   ]
  },
  {
   "cell_type": "code",
   "execution_count": 5,
   "id": "fa901727-bd4e-44e3-972a-8f008fd862ac",
   "metadata": {
    "tags": []
   },
   "outputs": [
    {
     "name": "stdout",
     "output_type": "stream",
     "text": [
      "Your responses must be a list of commands, expressed as a Python list of dicts.  Each dict correspond to a command with the following fields\n",
      "        - command:  name of the command\n",
      "        - summary:  one sentence summary of the purpose of invoking the command\n",
      "        - content:  content that is passed to the worker, usually a list.  Each command should define what need to be provided in the content.\n",
      "    Information requested will be returned in next prompt.  If a command does not produce the expected effect, take a note to yourself about why do you think that happened, and make sure you try a different approach instead of keep repeating a failed one.\n",
      "    The full list of valid commands are:\n",
      "  - `answer`: Answer a question or report that a requested task has been successfully performed, when you are confident of the results.\n",
      " - `self_note`: Note to yourself to plan your action and break difficult tasks into managable steps. Notes are invisible to others. Try to plan how to perform difficult tasks and obtain information with your commands instead of asking the user. \n",
      " - `search`: Search Goole to get top results and URLs. Try your best to construct the most effective query based on your knowledge and choose a sensible result count limit.\n",
      " - `read_page`: Obtain info from a page based on URL. Describe what to extract with the description field. If you need original text, explicitly say verbatim in the description; otherwise returns will be summarized. \n",
      " - `python`: Submit Python code that perform complex tasks or computations. Printouts or error messages will be returned to you. The content must be a Python dictionary with fields:\n",
      "    - code: Required field.  A string containing the code snippet\n",
      "    - request_file: Optional. Request files to be supplied; \n",
      "    - save_as:  Optional. String. Filename for the code to be saved as; do not include path.\n",
      "    - return_variables:  Optional. List of variable names that you need to be returned after the code is executed\n",
      "    - packages: Optional. A list of packages that need to be installed\n",
      "    - execute: Optional.  If False, the code will be saved but not executed. Default is True.\n",
      "    - note: any important messages. If you are unable to directly execute, put a message in `note`, code that you cannot execute in the `code` field, and do not return an `execute` field.\n",
      "\n",
      "Full list of valid commands: ['answer', 'self_note', 'search', 'read_page', 'python']\n",
      "\n"
     ]
    }
   ],
   "source": [
    "print(BaseCommand.generate_command_list())"
   ]
  },
  {
   "cell_type": "markdown",
   "id": "56663259-7480-4e68-9512-f32ee8f002ee",
   "metadata": {},
   "source": [
    "and here is the actual conversation thread including tooling"
   ]
  },
  {
   "cell_type": "code",
   "execution_count": 3,
   "id": "6fa9108a-f738-4b2c-bca8-cae53b0cd21f",
   "metadata": {
    "tags": []
   },
   "outputs": [
    {
     "name": "stdout",
     "output_type": "stream",
     "text": [
      "user: \n",
      "user instruction: What is the zip code of the most recent turing award winner's spouse's workplace raised to the power of 0.73?\n",
      "assistant: [\n",
      "  {\n",
      "    \"command\": \"self_note\",\n",
      "    \"summary\": \"Find manageable steps to achieve goal\",\n",
      "    \"content\": [\n",
      "      \"Determine the most recent Turing Award winner\",\n",
      "      \"Find out who is their spouse\",\n",
      "      \"Search for the spouse's workplace zip code\",\n",
      "      \"Calculate the zip code raised to the power of 0.73\"\n",
      "    ]\n",
      "  },\n",
      "  {\n",
      "    \"command\": \"search\",\n",
      "    \"summary\": \"Determine the most recent Turing Award winner\",\n",
      "    \"content\": [{\n",
      "      \"query\": \"most recent Turing Award winner\",\n",
      "      \"size\": 3\n",
      "    }]\n",
      "  }\n",
      "]\n",
      "user: `search` returns: [{'query': 'most recent Turing Award winner', 'results': [{'title': 'Turing Award - Wikipedia', 'links': ['https://en.wikipedia.org/wiki/Turing_Award'], 'content': ''}, {'title': 'A.M. Turing Award Winners by Year', 'links': ['https://awards.acm.org/', 'https://amturing.acm.org/award_winners/pearl_2658896.cfm', 'https://amturing.acm.org/bysubject.cfm', 'https://amturing.acm.org/byyear.cfm', 'https://amturing.acm.org/award_winners/ullman_1054360.cfm', 'https://amturing.acm.org/award_winners/bengio_3406375.cfm', 'https://amturing.acm.org/'], 'content': 'CHRONOLOGICAL LISTING OF A.M. TURING AWARD WINNERS ; ( 2022)Metcalfe, Robert Melancton  ; (2021)Dongarra, Jack ; (2020)Aho, Alfred Vaino Ullman, Jeffrey David ; (2019)\\xa0...\\n\\u200e Judea Pearl  · \\u200e Research Subjects  · \\u200e Ullman, Jeffrey David  · \\u200e Yoshua Bengio\\nACM, the Association for Computing Machinery, today named  Bob Metcalfe  as recipient of the 2022 ACM A.M. Turing Award for the invention, standardization,\\xa0...\\nACM has named  Bob Metcalfe  as recipient of the 2022 ACM A.M. Turing Award for the invention, standardization, and commercialization of Ethernet. Metcalfe is an\\xa0...'}, {'title': \"Bob Metcalfe '69 wins $1 million Turing Award | MIT News\", 'links': ['https://news.mit.edu/2023/bob-metcalfe-wins-acm-turing-award-0322', 'https://www.csail.mit.edu/about/notable-awards'], 'content': \"Mar 22, 2023  —  Bob Metcalfe  is the winner of the 2022 ACM A.M. Turing Award. ... Robert “Bob” Metcalfe '69, an MIT Computer Science and Artificial Intelligence\\xa0...\\nTim Berners-Lee  was honored with the Turing Award for his work inventing the World. Photo: Henry Thomas. American Academy of Arts and Sciences · American\\xa0...\"}]}]\n",
      "\n",
      "assistant: [\n",
      "  {\n",
      "    \"command\": \"self_note\",\n",
      "    \"summary\": \"Update plan with new info\",\n",
      "    \"content\": [\n",
      "      \"The most recent Turing Award winner is Bob Metcalfe.\",\n",
      "      \"Find out who is Bob Metcalfe's spouse\",\n",
      "      \"Search for the spouse's workplace zip code\",\n",
      "      \"Calculate the zip code raised to the power of 0.73\"\n",
      "    ]\n",
      "  },\n",
      "  {\n",
      "    \"command\": \"search\",\n",
      "    \"summary\": \"Find out who is Bob Metcalfe's spouse\",\n",
      "    \"content\": [\n",
      "      {\"query\": \"Bob Metcalfe spouse\", \"size\": 3}\n",
      "    ]\n",
      "  }\n",
      "]\n",
      "user: `search` returns: [{'query': 'Bob Metcalfe spouse', 'results': [{'title': 'Remarks of Mr. Robert Metcalfe', 'links': ['https://americanhistory.si.edu/comphist/montic/metcalfe.htm'], 'content': ''}, {'title': 'Robert Metcalfe', 'links': ['https://en.wikipedia.org/wiki/Robert_Metcalfe', 'https://en.wikipedia.org/wiki/Robert_Metcalfe#Awards', 'https://en.wikipedia.org/wiki/Robert_Metcalfe#Career', 'https://en.wikipedia.org/wiki/Robert_Metcalfe#Predicted_Internet_collapse', 'https://en.wikipedia.org/wiki/Robert_Metcalfe#Early_life_and_family'], 'content': 'Metcalfe and his  wife Robyn  have two children. CareerEdit. While pursuing his doctorate in computer science, Metcalfe took a\\xa0...\\nSpouse:  Robyn Thesis:  Packet Communication (1973) Children:  2 Known for:  Internet pioneer; Ethernet inventor; ...\\n\\u200e Early life and family  · \\u200e Career  · \\u200e Awards  · \\u200e Predicted Internet collapse\\n'}, {'title': 'Robert Metcalfe Net Worth, Wiki, Biography, Age, Parents, ...', 'links': ['https://explorenetworth.com/robert-metcalfe-net-worth/'], 'content': 'Robert Metcalfe is married to  Robyn Shotwell , who is an author and a shepherd. The couple is parents to their two children, a son named Max Metcalfe,\\xa0...\\n'}]}]\n",
      "\n",
      "assistant: [\n",
      "  {\n",
      "    \"command\": \"self_note\",\n",
      "    \"summary\": \"Update plan with new info\",\n",
      "    \"content\": [\n",
      "      \"Bob Metcalfe's spouse is Robyn Shotwell.\",\n",
      "      \"Search for Robyn Shotwell's workplace zip code\",\n",
      "      \"Calculate the zip code raised to the power of 0.73\"\n",
      "    ]\n",
      "  },\n",
      "  {\n",
      "    \"command\": \"search\",\n",
      "    \"summary\": \"Search for Robyn Shotwell's workplace zip code\",\n",
      "    \"content\": [\n",
      "      {\"query\": \"Robyn Shotwell workplace zip code\", \"size\": 3}\n",
      "    ]\n",
      "  }\n",
      "]\n",
      "user: `search` returns: [{'query': 'Robyn Shotwell workplace zip code', 'results': [{'title': 'Images for Robyn Shotwell workplace zip code', 'links': [], 'content': ''}, {'title': 'Untitled', 'links': ['https://act.ucsd.edu/security/financial/login?sectype=NONE&url=//seatigibpai.tk/b80actucsdeduZ9f400', 'https://act.ucsd.edu/security/financial/login?sectype=NONE&url=//krugaltemtiherrter.tk/143-04-07-380'], 'content': 'Varalli phila, Lake  county  library in munster, J dilla in hospital, Hallenbad fohrbach ch, Massey ferguson 165 flexicab. Reliant  robin  turbo, Kastle bmx 88\\xa0...\\nWashington square ny  zip code , Winkers design jeans, Open championship tv coverage ... Professional boundaries at  workplace , Ashbritt new jersey contract,\\xa0...'}, {'title': 'ROBYN SHOTWELL METCALFE, PhD', 'links': ['https://robynsmetcalfe.com/wp-content/uploads/2021/06/MetcalfeCV2020.pdf'], 'content': 'ROBYN SHOTWELL METCALFE, PhD. School of Human Ecology, College of Natural Sciences, The University of Texas at Austin. Austin,  Texas 78712 . Robyn. 5 pages\\nMissing:   workplace  \\u200e zip  \\u200e code\\n'}]}]\n",
      "\n",
      "assistant: [\n",
      "  {\n",
      "    \"command\": \"self_note\",\n",
      "    \"summary\": \"Plan alternative course\",\n",
      "    \"content\": [\n",
      "      \"Google search did not return the desired info.\",\n",
      "      \"Robyn Shotwell Metcalfe works at The University of Texas at Austin.\",\n",
      "      \"Find the zip code for The University of Texas at Austin.\"\n",
      "    ]\n",
      "  },\n",
      "  {\n",
      "    \"command\": \"search\",\n",
      "    \"summary\": \"Find the zip code for The University of Texas at Austin\",\n",
      "    \"content\": [\n",
      "      {\"query\": \"The University of Texas at Austin zip code\", \"size\": 3}\n",
      "    ]\n",
      "  }\n",
      "]\n",
      "user: `search` returns: [{'query': 'The University of Texas at Austin zip code', 'results': [{'title': 'The University of Texas at Austin | Grantee Research Project', 'links': ['https://cfpub.epa.gov/ncer_abstracts/index.cfm/fuseaction/display.institutionInfo/institution/2199'], 'content': ''}, {'title': 'Contact Us | The University of Texas at Austin', 'links': ['https://www.utexas.edu/contact-us', 'https://documentsolutions.utexas.edu/mail/campus-addresses'], 'content': 'Each building on  78712  (zip-code) campus has an official USPS address that matches the City of Austin approved address. Each department has a unique +4 in\\xa0...'}, {'title': 'The University of Texas at Austin', 'links': ['https://usa.youbianku.com/university/The%20University%20of%20Texas%20at%20Austin'], 'content': ''}]}]\n",
      "\n",
      "assistant: [\n",
      "  {\n",
      "    \"command\": \"self_note\",\n",
      "    \"summary\": \"Update plan with new info\",\n",
      "    \"content\": [\n",
      "      \"The University of Texas at Austin zip code is 78712.\",\n",
      "      \"Calculate the zip code (78712) raised to the power of 0.73\"\n",
      "    ]\n",
      "  },\n",
      "  {\n",
      "    \"command\": \"python\",\n",
      "    \"summary\": \"Calculate the zip code (78712) raised to the power of 0.73\",\n",
      "    \"content\": {\n",
      "      \"code\": \"\"\"\n",
      "zip_code = 78712\n",
      "result = zip_code ** 0.73\n",
      "result\"\"\",\n",
      "      \"return_variables\": [\"result\"]\n",
      "    }\n",
      "  }\n",
      "]\n",
      "user: `python` returns: {'variables': {'result': 3750.6789555835444}, 'last_expression_value': 3750.6789555835444, 'printout': ''}\n",
      "\n",
      "assistant: [\n",
      "  {\n",
      "    \"command\": \"self_note\",\n",
      "    \"summary\": \"Verify question is answered\",\n",
      "    \"content\": [\n",
      "      \"The zip code of the most recent Turing Award winner's spouse's workplace (78712) raised to the power of 0.73 is approximately 3750.68.\",\n",
      "      \"The user asked for the zip code of the most recent Turing Award winner's spouse's workplace raised to the power of 0.73. The question is correctly addressed.\"\n",
      "    ]\n",
      "  },\n",
      "  {\n",
      "    \"command\": \"answer\",\n",
      "    \"summary\": \"Report the calculated value\",\n",
      "    \"content\": \"The zip code of the most recent Turing Award winner's spouse's workplace raised to the power of 0.73 is approximately 3750.68.\"\n",
      "  }\n",
      "]\n"
     ]
    }
   ],
   "source": [
    "for entry in conv.history:\n",
    "    print(f\"{entry['role']}: {entry['content']}\")"
   ]
  }
 ],
 "metadata": {
  "kernelspec": {
   "display_name": "Python 3 (ipykernel)",
   "language": "python",
   "name": "python3"
  },
  "language_info": {
   "codemirror_mode": {
    "name": "ipython",
    "version": 3
   },
   "file_extension": ".py",
   "mimetype": "text/x-python",
   "name": "python",
   "nbconvert_exporter": "python",
   "pygments_lexer": "ipython3",
   "version": "3.8.9"
  }
 },
 "nbformat": 4,
 "nbformat_minor": 5
}
