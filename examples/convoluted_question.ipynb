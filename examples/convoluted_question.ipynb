{
 "cells": [
  {
   "cell_type": "code",
   "execution_count": 1,
   "id": "04c43a84-9396-4e8f-8a3e-7f30e1246e39",
   "metadata": {
    "tags": []
   },
   "outputs": [],
   "source": [
    "from easy_llm_agents.commands import BaseCommand, handlers\n",
    "conv = BaseCommand.create_conversation('gpt-4')\n",
    "driver = BaseCommand.get_driver(conv, messenger=handlers.print_messages, qa=handlers.do_nothing)"
   ]
  },
  {
   "cell_type": "code",
   "execution_count": 2,
   "id": "8ad9d617-ae73-4a66-a676-5e7a29fd9868",
   "metadata": {
    "tags": []
   },
   "outputs": [
    {
     "name": "stdout",
     "output_type": "stream",
     "text": [
      "<Permissive Overseer> self_note requested. \"Find manageable steps to achieve goal\". GRANTED.\n",
      "<Permissive Overseer> search requested. \"Determine the most recent Turing Award winner\". GRANTED.\n",
      "<Message from self_note>\n",
      "thoughts: ['Determine the most recent Turing Award winner', 'Find out who is their spouse', \"Search for the spouse's workplace zip code\", 'Calculate the zip code raised to the power of 0.73']\n",
      "<Message from search>\n",
      "info: Googling most recent Turing Award winner\n",
      "<Permissive Overseer> self_note requested. \"Update plan with new info\". GRANTED.\n",
      "<Permissive Overseer> search requested. \"Find out who is Bob Metcalfe's spouse\". GRANTED.\n",
      "<Message from self_note>\n",
      "thoughts: ['The most recent Turing Award winner is Bob Metcalfe.', \"Find out who is Bob Metcalfe's spouse\", \"Search for the spouse's workplace zip code\", 'Calculate the zip code raised to the power of 0.73']\n",
      "<Message from search>\n",
      "info: Googling Bob Metcalfe spouse\n",
      "<Permissive Overseer> self_note requested. \"Update plan with new info\". GRANTED.\n",
      "<Permissive Overseer> search requested. \"Search for Robyn Shotwell's workplace zip code\". GRANTED.\n",
      "<Message from self_note>\n",
      "thoughts: [\"Bob Metcalfe's spouse is Robyn Shotwell.\", \"Search for Robyn Shotwell's workplace zip code\", 'Calculate the zip code raised to the power of 0.73']\n",
      "<Message from search>\n",
      "info: Googling Robyn Shotwell workplace zip code\n",
      "<Permissive Overseer> self_note requested. \"Update plan with new info\". GRANTED.\n",
      "<Permissive Overseer> search requested. \"Find the zip code for the University of Texas at Austin\". GRANTED.\n",
      "<Message from self_note>\n",
      "thoughts: ['Robyn Shotwell Metcalfe works at the University of Texas at Austin.', 'Find the zip code for the University of Texas at Austin', 'Calculate the zip code raised to the power of 0.73']\n",
      "<Message from search>\n",
      "info: Googling University of Texas at Austin zip code\n",
      "<Permissive Overseer> self_note requested. \"Update plan with new info\". GRANTED.\n",
      "<Permissive Overseer> python requested. \"Calculate both zip codes raised to the power of 0.73\". GRANTED.\n",
      "<Message from self_note>\n",
      "thoughts: ['The University of Texas at Austin has two zip codes: 78712 and 78705.', 'Calculate both zip codes raised to the power of 0.73']\n",
      "<Message from python>\n",
      "info: Executing code snippet\n",
      "code: \n",
      "zip_codes = [78712, 78705]\n",
      "results = [round(z ** 0.73, 2) for z in zip_codes]\n",
      "results\n",
      "\n",
      "<Permissive Overseer> self_note requested. \"Verify question is answered\". GRANTED.\n",
      "<Permissive Overseer> answer requested. \"Report the calculated values for both zip codes\". GRANTED.\n",
      "<Message from self_note>\n",
      "thoughts: ['The zip codes of the University of Texas at Austin are 78712 and 78705.', 'The values raised to the power of 0.73 are 3750.68 and 3750.44, respectively.', \"The user asked for the zip code of the most recent Turing Award winner's spouse's workplace raised to the power of 0.73.\"]\n",
      "The University of Texas at Austin has two zip codes: 78712 and 78705. When raised to the power of 0.73, they result in values of approximately 3750.68 and 3750.44, respectively.\n",
      "\n"
     ]
    }
   ],
   "source": [
    "print(driver.send(\"What is the zip code of the most recent turing award winner's spouse's workplace raised to the power of 0.73?\"))"
   ]
  }
 ],
 "metadata": {
  "kernelspec": {
   "display_name": "Python 3 (ipykernel)",
   "language": "python",
   "name": "python3"
  },
  "language_info": {
   "codemirror_mode": {
    "name": "ipython",
    "version": 3
   },
   "file_extension": ".py",
   "mimetype": "text/x-python",
   "name": "python",
   "nbconvert_exporter": "python",
   "pygments_lexer": "ipython3",
   "version": "3.8.9"
  }
 },
 "nbformat": 4,
 "nbformat_minor": 5
}
