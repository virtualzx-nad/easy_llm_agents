{
 "cells": [
  {
   "cell_type": "code",
   "execution_count": 1,
   "id": "04c43a84-9396-4e8f-8a3e-7f30e1246e39",
   "metadata": {
    "tags": []
   },
   "outputs": [],
   "source": [
    "from easy_llm_agents.commands import BaseCommand, handlers\n",
    "conv = BaseCommand.create_conversation('gpt-4')\n",
    "driver = BaseCommand.get_driver(\n",
    "    conv,\n",
    "    messenger=handlers.print_messages,\n",
    "    overseer=handlers.do_nothing,\n",
    "    qa=handlers.do_nothing,\n",
    "    essential_only=True\n",
    ")"
   ]
  },
  {
   "cell_type": "code",
   "execution_count": 2,
   "id": "8ad9d617-ae73-4a66-a676-5e7a29fd9868",
   "metadata": {
    "tags": []
   },
   "outputs": [
    {
     "name": "stdout",
     "output_type": "stream",
     "text": [
      "<Command self_note> {'thoughts': ['Determine the most recent Turing Award winner', 'Find out who is their spouse', \"Search for the spouse's workplace\", 'Find the zip code of the workplace', 'Calculate the zip code raised to the power of 0.73']}\n",
      "<Command delegate> {'name': '489ee5f8', 'level': 0, 'setting': {'model': 'gpt-4', 'T': 0.3, 'extra_instruction': 'Do not delegate simple tasks that can be done by one command.'}}\n",
      "<Command delegate> {'answer': 'The most recent Turing Award winner is Bob Metcalfe for the invention, standardization, and commercialization of Ethernet in 2022.\\n'}\n",
      "<Command self_note> {'thoughts': ['I know the most recent Turing Award winner is Bob Metcalfe.', \"Next, find out who is Bob Metcalfe's spouse.\", \"Then, search for the spouse's workplace.\", 'Find the zip code of the workplace.', 'Calculate the zip code raised to the power of 0.73']}\n",
      "<Command delegate> {'name': '91e5d6c7', 'level': 0, 'setting': {'model': 'gpt-4', 'T': 0.3, 'extra_instruction': 'Do not delegate simple tasks that can be done by one command.'}}\n",
      "<Command delegate> {'answer': \"Bob Metcalfe's spouse is Robyn.\\n\"}\n",
      "<Command self_note> {'thoughts': [\"I know Bob Metcalfe's spouse is Robyn.\", \"Next, search for Robyn Metcalfe's workplace.\", 'Find the zip code of the workplace.', 'Calculate the zip code raised to the power of 0.73']}\n",
      "<Command self_note> {'thoughts': [\"I know Bob Metcalfe's spouse is Robyn.\", \"Next, search for Robyn Metcalfe's workplace.\", 'Find the zip code of the workplace.', 'Calculate the zip code raised to the power of 0.73']}\n",
      "<Command delegate> {'name': 'd216592c', 'level': 0, 'setting': {'model': 'gpt-4', 'T': 0.3, 'extra_instruction': 'Do not delegate simple tasks that can be done by one command.'}}\n",
      "<Command delegate> {'answer': 'Robyn Metcalfe works as a Lecturer and Research Fellow at The University of Texas at Austin. She is also involved in producing documentaries, writing books, and sharing her creative work and processes.\\n'}\n",
      "<Command self_note> {'thoughts': ['I know Robyn Metcalfe works at The University of Texas at Austin.', 'Next, find the zip code of The University of Texas at Austin.', 'Calculate the zip code raised to the power of 0.73']}\n",
      "<Command delegate> {'name': '7eebf108', 'level': 0, 'setting': {'model': 'gpt-4', 'T': 0.3, 'extra_instruction': 'Do not delegate simple tasks that can be done by one command.'}}\n",
      "<Command delegate> {'answer': 'The zip code of The University of Texas at Austin is 78712.\\n'}\n",
      "<Command self_note> {'thoughts': ['I know the zip code of The University of Texas at Austin is 78712.', 'Next, calculate the zip code raised to the power of 0.73']}\n",
      "<Command self_note> {'thoughts': ['I know the zip code of The University of Texas at Austin is 78712.', 'Next, calculate the zip code raised to the power of 0.73']}\n",
      "<Command delegate> {'name': '3da2dda7', 'level': 0, 'setting': {'model': 'gpt-4', 'T': 0.3, 'extra_instruction': 'Do not delegate simple tasks that can be done by one command.'}}\n",
      "<Command delegate> {'answer': '78712 raised to the power of 0.73 is approximately 3750.68.\\n'}\n",
      "The zip code of the most recent Turing Award winner's spouse's workplace, The University of Texas at Austin, is 78712. When raised to the power of 0.73, it is approximately 3750.68.\n",
      "\n"
     ]
    }
   ],
   "source": [
    "print(driver.send(\"What is the zip code of the most recent turing award winner's spouse's workplace raised to the power of 0.73?\"))"
   ]
  },
  {
   "cell_type": "markdown",
   "id": "df6fddd0-b480-4caa-aa46-035e37bc2206",
   "metadata": {},
   "source": [
    "Under the hood\n",
    "----\n",
    "Here is the command instructions that it receives"
   ]
  },
  {
   "cell_type": "code",
   "execution_count": null,
   "id": "fa901727-bd4e-44e3-972a-8f008fd862ac",
   "metadata": {
    "tags": []
   },
   "outputs": [],
   "source": [
    "print(BaseCommand.generate_command_list())"
   ]
  },
  {
   "cell_type": "markdown",
   "id": "56663259-7480-4e68-9512-f32ee8f002ee",
   "metadata": {},
   "source": [
    "and here is the actual conversation thread including tooling"
   ]
  },
  {
   "cell_type": "code",
   "execution_count": null,
   "id": "6fa9108a-f738-4b2c-bca8-cae53b0cd21f",
   "metadata": {
    "tags": []
   },
   "outputs": [],
   "source": [
    "for entry in conv.history:\n",
    "    print(f\"{entry['role']}: {entry['content']}\")"
   ]
  },
  {
   "cell_type": "code",
   "execution_count": 3,
   "id": "56791ea3-c76f-4ca9-917a-e034d8f566a4",
   "metadata": {
    "tags": []
   },
   "outputs": [
    {
     "data": {
      "text/plain": [
       "dict_keys([])"
      ]
     },
     "execution_count": 3,
     "metadata": {},
     "output_type": "execute_result"
    }
   ],
   "source": [
    "conv.metadata.keys()"
   ]
  }
 ],
 "metadata": {
  "kernelspec": {
   "display_name": "Python 3 (ipykernel)",
   "language": "python",
   "name": "python3"
  },
  "language_info": {
   "codemirror_mode": {
    "name": "ipython",
    "version": 3
   },
   "file_extension": ".py",
   "mimetype": "text/x-python",
   "name": "python",
   "nbconvert_exporter": "python",
   "pygments_lexer": "ipython3",
   "version": "3.8.9"
  }
 },
 "nbformat": 4,
 "nbformat_minor": 5
}
