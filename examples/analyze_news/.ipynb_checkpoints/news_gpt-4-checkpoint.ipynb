{
 "cells": [
  {
   "cell_type": "code",
   "execution_count": 1,
   "id": "92fa4d37-ad66-40a0-9b0c-91b8a9aea081",
   "metadata": {},
   "outputs": [
    {
     "name": "stdout",
     "output_type": "stream",
     "text": [
      "<Permissive Overseer>think requested. \"Plan out steps to find information about the crisis in Sudan\". GRANTED.\n",
      "<Permissive Overseer>search requested. \"Find recent news about a crisis in Sudan\". GRANTED.\n",
      "<Command think> {'thoughts': ['I need to search for recent news about a crisis in Sudan.', 'Use `search` command to find news about the crisis in Sudan', 'Use `reader` command to read relevant pages from the top search results', 'Use `answer` command to report the crisis information to the user'], 'notes': []}\n",
      "<Command search> {'query': 'crisis in Sudan', 'size': 3, 'tbs': 'qdr:h', 'tbm': 'nws'}\n",
      "<Command search> {'num_results': 3, 'result_len': 1179, 'titles': [\"Sudan: United Nations (UN) 'relief chief' heads to the region ...\", \"UN Chief Sending Envoy over 'Unprecedented' Sudan Crisis\", \"UN sending envoy over 'unprecedented' Sudan war fallout\"]}\n",
      "<Permissive Overseer>reader requested. \"Read about the crisis in Sudan from relevant search results\". GRANTED.\n",
      "<Command reader> {'url': 'https://english.aawsat.com/home/article/4303906/un-chief-sending-envoy-over-unprecedented-sudan-crisis', 'instruction': 'unprecedented Sudan crisis'}\n",
      "<Command reader> {'lines': 274, 'tokens': 4207, 'n': 1}\n",
      "<Command reader> {'url': 'https://www.straitstimes.com/world/un-sending-envoy-over-unprecedented-sudan-war-fallout', 'instruction': 'Sudan war fallout'}\n",
      "<Command reader> {'lines': 664, 'tokens': 7427, 'n': 2}\n",
      "<Permissive Overseer>answer requested. \"Report the crisis information to the user\". GRANTED.\n"
     ]
    },
    {
     "data": {
      "text/plain": [
       "'An unprecedented crisis has broken out in Sudan, with deadly hostilities entering a third week. Over 500 people have been killed and tens of thousands have been forced to leave their homes for safer locations within the country or abroad since battles erupted on April 15. The United Nations is sending an envoy to the region due to the rapidly deteriorating humanitarian situation.\\n'"
      ]
     },
     "execution_count": 1,
     "metadata": {},
     "output_type": "execute_result"
    }
   ],
   "source": [
    "from lm_agent.agent import Agent\n",
    "model = 'gpt-4'\n",
    "agent = Agent(\n",
    "    model=model,\n",
    "    work_dir=model,\n",
    "    essential_only=False, disable=['delegate', 'python'],\n",
    "    config={\n",
    "        'command':{\n",
    "            'delegate': {'save':True},\n",
    "            'reader': {'summarization_model': model},\n",
    "        }\n",
    "    },\n",
    "    log_file=f'{model}.log',\n",
    ")\n",
    "agent.instruct(\"\"\"\n",
    "I heard a crisis just broke out in Sudan but I don't know what happened.\n",
    "Can you tell me what it is?\n",
    "\"\"\")"
   ]
  },
  {
   "cell_type": "code",
   "execution_count": 2,
   "id": "2f95a471-09da-4dc3-bdca-27a3d3fd085d",
   "metadata": {},
   "outputs": [
    {
     "name": "stdout",
     "output_type": "stream",
     "text": [
      "Total cost:  0.3982199999999999\n"
     ]
    }
   ],
   "source": [
    "print('Total cost: ', agent.model.total_cost())"
   ]
  }
 ],
 "metadata": {
  "kernelspec": {
   "display_name": "Python 3 (ipykernel)",
   "language": "python",
   "name": "python3"
  },
  "language_info": {
   "codemirror_mode": {
    "name": "ipython",
    "version": 3
   },
   "file_extension": ".py",
   "mimetype": "text/x-python",
   "name": "python",
   "nbconvert_exporter": "python",
   "pygments_lexer": "ipython3",
   "version": "3.10.9"
  }
 },
 "nbformat": 4,
 "nbformat_minor": 5
}
