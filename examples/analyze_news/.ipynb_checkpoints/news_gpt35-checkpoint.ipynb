{
 "cells": [
  {
   "cell_type": "code",
   "execution_count": null,
   "id": "92fa4d37-ad66-40a0-9b0c-91b8a9aea081",
   "metadata": {},
   "outputs": [
    {
     "name": "stdout",
     "output_type": "stream",
     "text": [
      "<Permissive Overseer>search requested. \"Find news articles about the conflict in Sudan\". GRANTED.\n",
      "<Command search> {'summary': 'Find news articles about the conflict in Sudan', 'notes': ['Use `search` command to find news articles about the conflict in Sudan', 'Use `reader` command to read the top articles and extract relevant information', 'Use `answer` command to report the information to the user']}\n",
      "<Command search> {'query': 'conflict in sudan', 'size': 3, 'tbs': None, 'tbm': None}\n",
      "<Command search> {'num_results': 3, 'result_len': 1179, 'titles': ['Sudan conflict: why is there fighting and what is at stake in ...', \"As Sudan conflict continues, here's what to know\", \"Why is there fighting in Sudan? A guide to what's behind ...\"]}\n",
      "<Permissive Overseer>reader requested. \"Read articles and extract relevant information about the conflict in Sudan\". GRANTED.\n",
      "<Command reader> {'url': 'https://www.theguardian.com/world/2023/apr/27/sudan-conflict-why-is-there-fighting-what-is-at-stake', 'instruction': \"Intense clashes between Sudan's military and the country's main paramilitary force  have killed hundreds of people and sent thousands fleeing\"}\n",
      "<Command reader> {'lines': 237, 'tokens': 3450, 'n': 2}\n"
     ]
    }
   ],
   "source": [
    "from lm_agent.agent import Agent\n",
    "model = 'gpt-3.5-turbo'\n",
    "agent = Agent(\n",
    "    model=model,\n",
    "    work_dir=model,\n",
    "    essential_only=False, disable=['delegate', 'python'],\n",
    "    config={\n",
    "        'command':{\n",
    "            'delegate': {'save':True},\n",
    "            'reader': {'summarization_model': model},\n",
    "        }\n",
    "    },\n",
    "    log_file=f'{model}.log',\n",
    ")\n",
    "agent.instruct(\"\"\"\n",
    "I heard a conflict just broke out in Sudan but I don't know what happened.\n",
    "Can you tell me what happened?\n",
    "\"\"\")"
   ]
  },
  {
   "cell_type": "code",
   "execution_count": 2,
   "id": "2f95a471-09da-4dc3-bdca-27a3d3fd085d",
   "metadata": {},
   "outputs": [
    {
     "name": "stdout",
     "output_type": "stream",
     "text": [
      "Total cost:  0.023122\n"
     ]
    }
   ],
   "source": [
    "print('Total cost: ', agent.model.total_cost())"
   ]
  }
 ],
 "metadata": {
  "kernelspec": {
   "display_name": "Python 3 (ipykernel)",
   "language": "python",
   "name": "python3"
  },
  "language_info": {
   "codemirror_mode": {
    "name": "ipython",
    "version": 3
   },
   "file_extension": ".py",
   "mimetype": "text/x-python",
   "name": "python",
   "nbconvert_exporter": "python",
   "pygments_lexer": "ipython3",
   "version": "3.10.9"
  }
 },
 "nbformat": 4,
 "nbformat_minor": 5
}
