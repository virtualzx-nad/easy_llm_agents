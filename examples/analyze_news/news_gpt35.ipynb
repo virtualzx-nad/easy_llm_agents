{
 "cells": [
  {
   "cell_type": "code",
   "execution_count": 1,
   "id": "92fa4d37-ad66-40a0-9b0c-91b8a9aea081",
   "metadata": {},
   "outputs": [
    {
     "name": "stdout",
     "output_type": "stream",
     "text": [
      "<Permissive Overseer>search requested. \"Find news articles about the conflict in Sudan\". GRANTED.\n",
      "<Command search> {'summary': 'Find news articles about the conflict in Sudan', 'notes': ['Use `search` command to find news articles about the conflict in Sudan', 'Use `reader` command to read the top articles and extract relevant information', 'Use `answer` command to report the information to the user']}\n",
      "<Command search> {'query': 'conflict in sudan', 'size': 3, 'tbs': None, 'tbm': None}\n",
      "<Command search> {'num_results': 3, 'result_len': 1179, 'titles': ['Sudan conflict: why is there fighting and what is at stake in ...', \"As Sudan conflict continues, here's what to know\", \"Why is there fighting in Sudan? A guide to what's behind ...\"]}\n",
      "<Permissive Overseer>reader requested. \"Read articles and extract relevant information about the conflict in Sudan\". GRANTED.\n",
      "<Command reader> {'url': 'https://www.theguardian.com/world/2023/apr/27/sudan-conflict-why-is-there-fighting-what-is-at-stake', 'instruction': \"Intense clashes between Sudan's military and the country's main paramilitary force  have killed hundreds of people and sent thousands fleeing\"}\n",
      "<Command reader> {'lines': 237, 'tokens': 3450, 'n': 2}\n",
      "<Command reader> {'url': 'https://www.npr.org/2023/04/27/1172123699/sudan-conflict-explained', 'instruction': \"Fighting in Sudan has continued for nearly two weeks since it began on April 15, when  violence broke out between the country's army  and a\"}\n",
      "<Command reader> {'lines': 425, 'tokens': 6169, 'n': 3}\n",
      "<Command reader> {'url': 'https://www.cnn.com/2023/04/26/africa/sudan-conflict-explained-intl/index.html', 'instruction': \"At the heart of the clashes are two men:  Sudan's military ruler and head of the army Abdel Fattah al-Burhan and General Mohamed Hamdan Dagalo\"}\n",
      "<Command reader> {'lines': 998, 'tokens': 11257, 'n': 5}\n",
      "<Permissive Overseer>answer requested. \"Report information about the conflict in Sudan to the user\". GRANTED.\n"
     ]
    },
    {
     "data": {
      "text/plain": [
       "\"There has been intense fighting between Sudan's military and the country's main paramilitary force, the Rapid Support Forces, resulting in hundreds of deaths and thousands of refugees fleeing to neighboring countries. The conflict is a power struggle between the two factions over who gets to run the resource-rich nation. The two main figures at the heart of the conflict are Sudan's military ruler and head of the army Abdel Fattah al-Burhan and General Mohamed Hamdan Dagalo (widely known as Hemedti), the country’s deputy and head of the RSF paramilitary group.\\n\""
      ]
     },
     "execution_count": 1,
     "metadata": {},
     "output_type": "execute_result"
    }
   ],
   "source": [
    "from lm_agent.agent import Agent\n",
    "model = 'gpt-3.5-turbo'\n",
    "agent = Agent(\n",
    "    model=model,\n",
    "    work_dir=model,\n",
    "    essential_only=False, disable=['delegate', 'python'],\n",
    "    config={\n",
    "        'command':{\n",
    "            'delegate': {'save':True},\n",
    "            'reader': {'summarization_model': model},\n",
    "        }\n",
    "    },\n",
    "    log_file=f'{model}.log',\n",
    ")\n",
    "agent.instruct(\"\"\"\n",
    "I heard a conflict just broke out in Sudan but I don't know what happened.\n",
    "Can you tell me what happened?\n",
    "\"\"\")"
   ]
  },
  {
   "cell_type": "code",
   "execution_count": 2,
   "id": "2f95a471-09da-4dc3-bdca-27a3d3fd085d",
   "metadata": {},
   "outputs": [
    {
     "name": "stdout",
     "output_type": "stream",
     "text": [
      "Total cost:  0.034837999999999994\n"
     ]
    }
   ],
   "source": [
    "print('Total cost: ', agent.model.total_cost())"
   ]
  }
 ],
 "metadata": {
  "kernelspec": {
   "display_name": "Python 3 (ipykernel)",
   "language": "python",
   "name": "python3"
  },
  "language_info": {
   "codemirror_mode": {
    "name": "ipython",
    "version": 3
   },
   "file_extension": ".py",
   "mimetype": "text/x-python",
   "name": "python",
   "nbconvert_exporter": "python",
   "pygments_lexer": "ipython3",
   "version": "3.10.9"
  }
 },
 "nbformat": 4,
 "nbformat_minor": 5
}
