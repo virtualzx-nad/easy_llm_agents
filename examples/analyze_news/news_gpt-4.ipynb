{
 "cells": [
  {
   "cell_type": "code",
   "execution_count": 1,
   "id": "92fa4d37-ad66-40a0-9b0c-91b8a9aea081",
   "metadata": {},
   "outputs": [
    {
     "name": "stdout",
     "output_type": "stream",
     "text": [
      "<Permissive Overseer>think requested. \"Plan out steps to find information about the conflict in Sudan\". GRANTED.\n",
      "<Permissive Overseer>search requested. \"Find recent news about the conflict in Sudan\". GRANTED.\n",
      "<Command think> {'thoughts': ['I need to perform a search to find recent news about the conflict in Sudan.', 'Use `search` command to find news articles about the conflict in Sudan.', 'Use `reader` command to read some of the relevant pages from the top search results.', 'Use `answer` command to report a summary of what happened in the conflict.'], 'notes': []}\n",
      "<Command search> {'query': 'conflict in Sudan', 'size': 3, 'tbs': 'qdr:w', 'tbm': 'nws'}\n",
      "<Command search> {'num_results': 3, 'result_len': 697, 'titles': ['Sudan conflict: why is there fighting and what is at stake in ...', \"As Sudan conflict continues, here's what to know\", \"Why is there fighting in Sudan? A guide to what's behind ...\"]}\n",
      "<Permissive Overseer>reader requested. \"Read articles to find information about the conflict in Sudan\". GRANTED.\n",
      "<Command reader> {'url': 'https://www.theguardian.com/world/2023/apr/27/sudan-conflict-why-is-there-fighting-what-is-at-stake', 'instruction': 'key information'}\n",
      "<Command reader> {'lines': 237, 'tokens': 3450, 'n': 1}\n",
      "<Command reader> {'url': 'https://www.npr.org/2023/04/27/1172123699/sudan-conflict-explained', 'instruction': 'key information'}\n",
      "<Command reader> {'lines': 425, 'tokens': 6169, 'n': 1}\n",
      "<Command reader> {'url': 'https://www.cnn.com/2023/04/26/africa/sudan-conflict-explained-intl/index.html', 'instruction': 'key information'}\n",
      "<Command reader> {'lines': 998, 'tokens': 11257, 'n': 2}\n",
      "Return is too long. Will summarize\n",
      "<Permissive Overseer>answer requested. \"Report a summary of the conflict in Sudan\". GRANTED.\n"
     ]
    },
    {
     "data": {
      "text/plain": [
       "\"The conflict in Sudan involves clashes between Sudan's military and Rapid Support Forces (RSF), resulting in hundreds of deaths and thousands fleeing. The power struggle is between Gen Abdel Fattah al-Burhan and Gen Mohamed Hamdan Dagalo (Hemedti). Civilians demand military oversight and RSF integration. The fighting began on April 15, and there is a humanitarian crisis with people trapped in their homes and tens of thousands fleeing to Chad and South Sudan. A 72-hour ceasefire has been agreed upon, but tensions remain high during negotiations to integrate RSF into the military. Geopolitical dimensions involve Russia, US, Saudi Arabia, UAE, and others, with Russia's mercenary group, Wagner, boosting RSF's missile supplies. The UN Security Council is holding a meeting on the crisis, and Egypt and South Sudan have offered to mediate.\\n\""
      ]
     },
     "execution_count": 1,
     "metadata": {},
     "output_type": "execute_result"
    }
   ],
   "source": [
    "from lm_agent.agent import Agent\n",
    "model = 'gpt-4'\n",
    "agent = Agent(\n",
    "    model=model,\n",
    "    work_dir=model,\n",
    "    essential_only=False, disable=['delegate', 'python'],\n",
    "    config={\n",
    "        'command':{\n",
    "            'delegate': {'save':True},\n",
    "            'reader': {'summarization_model': model},\n",
    "        }\n",
    "    },\n",
    "    log_file=f'{model}.log',\n",
    ")\n",
    "agent.instruct(\"\"\"\n",
    "I heard a conflict just broke out in Sudan but I don't know what happened.\n",
    "Can you tell me what happened?\n",
    "\"\"\")"
   ]
  },
  {
   "cell_type": "code",
   "execution_count": 2,
   "id": "2f95a471-09da-4dc3-bdca-27a3d3fd085d",
   "metadata": {},
   "outputs": [
    {
     "name": "stdout",
     "output_type": "stream",
     "text": [
      "Total cost:  0.60486\n"
     ]
    }
   ],
   "source": [
    "print('Total cost: ', agent.model.total_cost())"
   ]
  }
 ],
 "metadata": {
  "kernelspec": {
   "display_name": "Python 3 (ipykernel)",
   "language": "python",
   "name": "python3"
  },
  "language_info": {
   "codemirror_mode": {
    "name": "ipython",
    "version": 3
   },
   "file_extension": ".py",
   "mimetype": "text/x-python",
   "name": "python",
   "nbconvert_exporter": "python",
   "pygments_lexer": "ipython3",
   "version": "3.10.9"
  }
 },
 "nbformat": 4,
 "nbformat_minor": 5
}
