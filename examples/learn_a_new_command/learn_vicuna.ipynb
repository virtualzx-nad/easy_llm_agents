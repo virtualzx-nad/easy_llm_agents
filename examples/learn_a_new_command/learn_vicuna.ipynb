{
 "cells": [
  {
   "cell_type": "markdown",
   "id": "217b929d-5298-476f-a4f2-2b3ea2a3b844",
   "metadata": {},
   "source": [
    "Learning a new command\n",
    "=========================\n",
    "Here the agent reads one example from its own README file and do online research to implement a new command, then try and use it immediately"
   ]
  },
  {
   "cell_type": "code",
   "execution_count": 1,
   "id": "4c0e06ad-2d1a-41e2-9d7a-46312d211b0a",
   "metadata": {
    "tags": []
   },
   "outputs": [
    {
     "name": "stdout",
     "output_type": "stream",
     "text": [
      "Loading tokenizer for anon8231489123/vicuna-13b-GPTQ-4bit-128g\n",
      "Loading GPTQ quantized model...\n",
      "Loading model ...\n"
     ]
    },
    {
     "name": "stderr",
     "output_type": "stream",
     "text": [
      "/home/virtualzx/miniconda3/envs/ela/lib/python3.10/site-packages/safetensors/torch.py:99: UserWarning: TypedStorage is deprecated. It will be removed in the future and UntypedStorage will be the only storage class. This should only matter to you if you are using storages directly.  To access UntypedStorage directly, use tensor.untyped_storage() instead of tensor.storage()\n",
      "  with safe_open(filename, framework=\"pt\", device=device) as f:\n",
      "/home/virtualzx/miniconda3/envs/ela/lib/python3.10/site-packages/torch/_utils.py:776: UserWarning: TypedStorage is deprecated. It will be removed in the future and UntypedStorage will be the only storage class. This should only matter to you if you are using storages directly.  To access UntypedStorage directly, use tensor.untyped_storage() instead of tensor.storage()\n",
      "  return self.fget.__get__(instance, owner)()\n",
      "/home/virtualzx/miniconda3/envs/ela/lib/python3.10/site-packages/torch/storage.py:899: UserWarning: TypedStorage is deprecated. It will be removed in the future and UntypedStorage will be the only storage class. This should only matter to you if you are using storages directly.  To access UntypedStorage directly, use tensor.untyped_storage() instead of tensor.storage()\n",
      "  storage = cls(wrap_storage=untyped_storage)\n"
     ]
    },
    {
     "name": "stdout",
     "output_type": "stream",
     "text": [
      "Done.\n"
     ]
    }
   ],
   "source": [
    "from lm_agent.agent import Agent\n",
    "import openai\n",
    "openai.api_key = 'INVALID_KEY'  # Make sure we don't use OpenAI by accident anywhere\n",
    "agent = Agent(model='vicuna', work_dir='vicuna', config={'command': {'reader': {'summarization_model': 'vicuna'}}}, disable=('delegate'), essential_only=False)"
   ]
  },
  {
   "cell_type": "markdown",
   "id": "84512672-b904-4c3d-a9fb-7d0fc37d7af4",
   "metadata": {
    "tags": []
   },
   "source": [
    "### First show the example and ask it to code up the new command\n"
   ]
  },
  {
   "cell_type": "code",
   "execution_count": 2,
   "id": "524076fc-976f-4700-80ec-7b0d77c9047f",
   "metadata": {
    "tags": []
   },
   "outputs": [
    {
     "name": "stdout",
     "output_type": "stream",
     "text": [
      "AI did not use a valid command. Unknown commands: ['weather_forecast']. Resending instructions\n",
      "<Permissive Overseer>writer requested. \"Write a command to get weather forecast for a date in the near future\". GRANTED.\n",
      "<Command writer> {'error': \"[Errno 2] No such file or directory: 'How_to_implement_a_new_command.md'\", 'filename': 'How_to_implement_a_new_command.md', 'file_type': 'context_file'}\n",
      "<Command writer> {'filename': 'weather_forecast.py', 'instruction': 'Create a python file that takes a date as an argument and returns the weather forecast for that date', 'context': 'Use the information from the README.md file to create the command'}\n",
      "<Permissive Overseer>python requested. \"Write a python command to get weather forecast for a date in the near future\". GRANTED.\n",
      "<Command python> {'action': 'install_package', 'package': 'search'}\n",
      "<Command python> {'action': 'install_package', 'package': 'datetime'}\n",
      "<Command python> {'info': 'Executing code snippet', 'code': 'def weather_forecast(date):\\n\\t# Use search command to get weather forecast\\n\\tsearch = search(\"weather forecast for %s\")\\n\\t# Get temperature and date from search results\\n\\ttemp = search[\\'results\\'][0][\\'temperature\\']\\n\\tdate = search[\\'results\\'][0][\\'date\\']\\n\\treturn \"The weather forecast for %s is %s.\" % (date, temp)\\n', 'cwd': '/home/virtualzx/easy_llm_agents/examples/learn_a_new_command/vicuna'}\n",
      "<Command python> {'script_returns': None}\n",
      "<Command python> {'info': 'Saving source code to weather_forecast.py'}\n",
      "<Permissive Overseer>reader requested. \"Read the last command to get the variables and printout\". GRANTED.\n",
      "<Command reader> {'url': 'weather_forecast.py', 'instruction': 'key information'}\n",
      "<Command reader> {'lines': 8, 'tokens': 172, 'n': 1}\n",
      "<Permissive Overseer>writer requested. \"Write a command to get weather forecast for a date in the near future\". GRANTED.\n",
      "<Command writer> {'error': \"[Errno 2] No such file or directory: 'How_to_implement_a_new_command.md'\", 'filename': 'How_to_implement_a_new_command.md', 'file_type': 'context_file'}\n",
      "<Command writer> {'filename': 'weather_forecast.py', 'instruction': 'Create a python file that takes a date as an argument and returns the weather forecast for that date', 'context': 'Use the information from the README.md file to create the command\\nContent of weather_forecast.py:\\n```def weather_forecast(date):\\n\\t# Use search command to get weather forecast\\n\\tsearch = search(\"weather'}\n",
      "<Permissive Overseer>python requested. \"Write a command to get weather forecast for a date in the near future\". GRANTED.\n",
      "<Command python> {'info': 'Executing code snippet', 'code': 'def weather_forecast(date):\\n    # search weather forecast for date\\n    search = requests.get(\"https://www.google.com/search?q=weather+forecast+%s&tbs=news&tbm=auto\", date)\\n    search_response = search.json()\\n    # extract temperature and date\\n    temp = search_response[\\'results\\'][0][\\'temperature\\']\\n    date = search_response[\\'results\\'][0][\\'date\\']\\n    return \"The weather forecast for %s is %s.\" % (date, temp)', 'cwd': '/home/virtualzx/easy_llm_agents/examples/learn_a_new_command/vicuna'}\n",
      "<Command python> {'script_returns': None}\n",
      "<Command python> {'info': 'Saving source code to weather_forecast.py'}\n",
      "<Permissive Overseer>reader requested. \"Read the last command to get the variables and printout\". GRANTED.\n",
      "<Command reader> {'url': 'weather_forecast.py', 'instruction': 'key information'}\n",
      "<Command reader> {'lines': 8, 'tokens': 201, 'n': 1}\n",
      "<Permissive Overseer>think requested. \"Think about the keywords and search query for the weather forecast command\". GRANTED.\n",
      "<Command think> {'thoughts': [{'keyword': 'weather forecast', 'search_query': 'weather forecast', 'context': 'Consider the keywords and search query to improve the search results'}], 'notes': []}\n",
      "<Permissive Overseer>search requested. \"Search Google to get the top results and URLs for weather forecast\". GRANTED.\n",
      "<Command search> {'query': 'Here is a possible Google search query for finding the top results and URLs for weather forecast:\\n\\n(weather forecast OR weather update OR weather report) AND (top results OR best websites OR trusted sources)\\n\\nThis query will search for pages that include the terms \"weather forecast\", \"weather update\", or \"weather report\" and also include the terms \"top results\", \"best websites\", or \"trusted sources\". This will likely return results from reputable weather forecasting sources such as weather.gov, accuweather.com, or theweatherchannel.com.', 'size': 3, 'tbs': '2', 'tbm': 'weather.forecast'}\n",
      "<Command search> {'num_results': 3, 'result_len': 1187, 'titles': ['How Google Determines Your Ranking on Search Results ...', 'Weather API - OpenWeatherMap', 'Top 6 Best Free Weather APIs (2023)']}\n",
      "<Permissive Overseer>reader requested. \"Read the top search results to determine which one to use for the weather forecast command\". GRANTED.\n",
      "<Permissive Overseer>think requested. \"Think about the structure of the weather forecast command and the variables it will return\". GRANTED.\n",
      "<Command think> {'thoughts': [{'keyword': 'weather forecast', 'context': 'Consider the structure of the weather forecast command and the variables it will return'}], 'notes': []}\n",
      "<Permissive Overseer>python requested. \"Write a Python command to retrieve the weather forecast for a specific date in the near future\". GRANTED.\n",
      "<Permissive Overseer>reader requested. \"Read the 'weather_forecast()' function from the 'weather_forecast.py' file to understand the variables and printout\". GRANTED.\n",
      "<Permissive Overseer>reader requested. \"Read the 'weather_forecast()' function from the 'weather_forecast.py' file to understand the variables and printout\". GRANTED.\n",
      "<Command reader> {'url': 'https://raw.githubusercontent.com/virtualzx-nad/easy_llm_agents/main/weather_forecast.py', 'instruction': 'key information'}\n",
      "<Command reader> {'info': 'Page https://raw.githubusercontent.com/virtualzx-nad/easy_llm_agents/main/weather_forecast.py has no content'}\n",
      "<Permissive Overseer>writer requested. \"Create a python file that takes a date as an argument and returns the weather forecast for that date\". GRANTED.\n",
      "<Command writer> {'filename': 'weather_forecast.py', 'instruction': 'Create a python file that takes a date as an argument and returns the weather forecast for that date', 'context': \"Use the information from the 'weather_forecast()' function from the 'weather_forecast.py' file to create a python file that takes a date as an argument and returns the weather forecast for that date\\nC\"}\n",
      "<Permissive Overseer>python requested. \"Retrieve the weather forecast for a specific date in the near future, with the date variable set to '2023-02-21'\". GRANTED.\n",
      "<Command python> {'action': 'install_package', 'package': 'datetime'}\n",
      "<Permissive Overseer>writer requested. \"Create a python file that retrieves the weather forecast for a specific date in the near future, with the date variable set to '2023-02-21'\". GRANTED.\n",
      "<Command writer> {'filename': 'weather_forecast.py', 'instruction': \"Create a python file that retrieves the weather forecast for a specific date in the near future, with the date variable set to '2023-02-21'\", 'context': \"Use the information from the 'weather_forecast()' function from the 'weather_forecast.py' file to create a python file that retrieves the weather forecast for a specific date in the near future, with \"}\n",
      "<Permissive Overseer>python requested. \"Test the weather forecast function in the 'weather_forecast.py' file and print the result\". GRANTED.\n",
      "<Command python> {'action': 'install_package', 'package': 'datetime'}\n",
      "<Command python> {'action': 'install_package', 'package': 'weather_forecast'}\n",
      "<Permissive Overseer>writer requested. \"Create a python file that test the weather forecast function in the 'weather_forecast.py' file and print the result\". GRANTED.\n",
      "<Command writer> {'filename': 'test_weather_forecast.py', 'instruction': \"Create a python file that test the weather forecast function in the 'weather_forecast.py' file and print the result\", 'context': \"Test the weather forecast function in the 'weather_forecast.py' file and print the result\\nContent of weather_forecast.py:\\n```Sure, here is an example of a python file that retrieves the weather foreca\"}\n",
      "<Permissive Overseer>python requested. \"Test the test_weather_forecast.py file and print the result\". GRANTED.\n",
      "<Command python> {'action': 'install_package', 'package': 'datetime'}\n",
      "<Command python> {'action': 'install_package', 'package': 'test_weather_forecast'}\n",
      "<DRIVER> Max AI autopilot cycles reached. Ejecting to human control\n",
      "<< Maximum AI autopilot cycles reached. Please confirm you want to continue. >>\n"
     ]
    }
   ],
   "source": [
    "print(agent.instruct(\"\"\"Read the section 'How to implement a new command' from \n",
    "`https://raw.githubusercontent.com/virtualzx-nad/easy_llm_agents/main/README.md` to get the code and instructions for implementing new commands verbatim,\n",
    "then write a command to get weather forecast for a date in the near future.\n",
    "When you design your command make sure it does not return too much information to blow up the token limit.\n",
    "If you choose to use an API, make sure you read the doc to understand the parameters and returns structure, and think about what need to be passed and returned for you command.\n",
    "I cannot provide you with API keys due to privacy restrictions, but the code can directly retrieve the API keys from `self.metadata`. \n",
    "Do not use APIs that are not free, and tell me what API keys need to be passed into metadata if you need them.  \n",
    "The command will be created or updated as soon as you submit and execute the python code, but make sure to notify me and get approval before you start using them.\"\"\"))"
   ]
  },
  {
   "cell_type": "markdown",
   "id": "5849b00b-8e9f-46c9-979b-717bf78ec668",
   "metadata": {},
   "source": [
    "### Add API keys per its request\n",
    "Add the requested API key to metadata, if the agent requested it.  \n",
    "There are a few different APIs in this area and the agent usually choose from OpenWeatherMap, WeatherAPI and Open-Meteo APIs. \n",
    "If it chose one that is free but needs an API key, it will tell you to supply it here and you need to navigate to the site and get an \n",
    "API key then store it into metadata objects below. \n",
    "Do not tell the agent what the key is as that is probably not safe behavior.\n",
    "If it chose one that doesn't need API key (say Open Mateo) you can comment this block out and just proceed to later ones."
   ]
  },
  {
   "cell_type": "code",
   "execution_count": 3,
   "id": "36515694-ca21-4ae7-a14d-d05f01bd73b6",
   "metadata": {},
   "outputs": [],
   "source": [
    "# agent.metadata['openweathermap_api_key'] ="
   ]
  },
  {
   "cell_type": "markdown",
   "id": "902ed43a-f89c-4ac0-953e-428fcac65176",
   "metadata": {},
   "source": [
    "### Check if new command is there\n",
    "Check the command list to make sure the new command is online"
   ]
  },
  {
   "cell_type": "code",
   "execution_count": null,
   "id": "54fa5e5d-a11d-46ba-8aff-f23cbaf5b12c",
   "metadata": {},
   "outputs": [],
   "source": [
    "print(agent.generate_command_list())"
   ]
  },
  {
   "cell_type": "markdown",
   "id": "e9982869-7cfc-4d89-baab-0a81891487b8",
   "metadata": {},
   "source": [
    "### Now ask it to run the new command\n",
    "Now it is in metadata we can tell it to continue.  Then ask the question and see it uses the command"
   ]
  },
  {
   "cell_type": "code",
   "execution_count": null,
   "id": "526be014-afc6-4b78-92d8-081053a0888d",
   "metadata": {
    "tags": []
   },
   "outputs": [],
   "source": [
    "print(agent.instruct(\"\"\"OK I have added the API key to the metadata.  \n",
    "Now you can invoke command `weather_forecast` to check if it works correctly. \n",
    "What's the weather in San Francisco the day after tomorrow?\"\"\"))"
   ]
  },
  {
   "cell_type": "markdown",
   "id": "966cc435-929a-418c-9140-753d58f033c0",
   "metadata": {},
   "source": [
    "### Under the hood\n",
    "\n",
    "Now we print out the full conversation history to see what went on under the hood"
   ]
  },
  {
   "cell_type": "code",
   "execution_count": null,
   "id": "3ee64692-eb7d-4879-94bd-643ab6d71cc8",
   "metadata": {
    "tags": []
   },
   "outputs": [],
   "source": [
    "for entry in agent.conversation.raw_history:\n",
    "    print(f\"{entry['role']}: {entry['content']}\")"
   ]
  },
  {
   "cell_type": "markdown",
   "id": "79078df6-7aa6-41f2-9294-7b449d0d2cc6",
   "metadata": {},
   "source": [
    "### Check how much this has cost. \n",
    "\n",
    "Not cheap for a weather forecast, but decent for coding a new functionality"
   ]
  },
  {
   "cell_type": "code",
   "execution_count": null,
   "id": "89bc3c7f-3e5c-4b1e-93d7-fb4e66fbe623",
   "metadata": {},
   "outputs": [],
   "source": [
    "print(f'Total OpenAI cost: ${agent.model.total_cost():.2f}')"
   ]
  }
 ],
 "metadata": {
  "kernelspec": {
   "display_name": "Python 3 (ipykernel)",
   "language": "python",
   "name": "python3"
  },
  "language_info": {
   "codemirror_mode": {
    "name": "ipython",
    "version": 3
   },
   "file_extension": ".py",
   "mimetype": "text/x-python",
   "name": "python",
   "nbconvert_exporter": "python",
   "pygments_lexer": "ipython3",
   "version": "3.10.9"
  }
 },
 "nbformat": 4,
 "nbformat_minor": 5
}
